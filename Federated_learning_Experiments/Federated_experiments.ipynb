{
 "cells": [
  {
   "cell_type": "markdown",
   "metadata": {},
   "source": [
    "# EXPERIMENTS ON FEDERATED LEARNING\n",
    "\n",
    "This file contains variation from the Federated Learning CNN file on MNIST for understanding the impact of these parameters on the final output.\n",
    "\n",
    "### OUTPUT FOR THE ORGINAL FILE"
   ]
  },
  {
   "cell_type": "markdown",
   "metadata": {},
   "source": [
    "<img src=\"main.png\" style=\"width:400px;height:400px;\">\n"
   ]
  },
  {
   "cell_type": "markdown",
   "metadata": {},
   "source": [
    "In the above image after 30 rounds, the loses are approximately around 0.05\n",
    "\n",
    "We will run the remaining code only 10 rounds to see the changes"
   ]
  },
  {
   "cell_type": "markdown",
   "metadata": {},
   "source": [
    "### OUTPUT FOR ONLY 10 ROUNDS"
   ]
  },
  {
   "cell_type": "markdown",
   "metadata": {},
   "source": [
    "<img src=\"10rounds.png\" style=\"width:400px;height:400px;\"> "
   ]
  },
  {
   "cell_type": "markdown",
   "metadata": {},
   "source": [
    "Here the losses are only around 0.10, denoting the fact that lesser rounds incur more losses."
   ]
  },
  {
   "cell_type": "markdown",
   "metadata": {},
   "source": [
    "We will be continuing with this for further comparisons."
   ]
  },
  {
   "cell_type": "markdown",
   "metadata": {},
   "source": [
    "### 20 ROUNDS\n",
    "\n",
    "<img src=\"20rounds.png\" style=\"width:400px;height:400px;\"> \n",
    "\n",
    "Here we got more accuracy than 10 rounds."
   ]
  },
  {
   "cell_type": "markdown",
   "metadata": {},
   "source": [
    "### EPOCH_PER_CLIENT = 1\n",
    "\n",
    "<img src=\"epoch=1.png\" style=\"width:400px;height:400px;\" >\n",
    "\n",
    "Here when the epochs per client that is the number of times a local device trains its model based on the last updated global model from the central server in a federated learning round is reduced we have HIGHER LOSE with 0.2. "
   ]
  },
  {
   "cell_type": "markdown",
   "metadata": {},
   "source": [
    "### EPOCH_PER_CLIENT = 6\n",
    "\n",
    "<img src=\"epoch_per_client=6.png\" style=\"width:400px;height:400px;\">\n",
    "\n",
    "whent the epochs per client became double the amount.. even tho we are only doing 10 rounds our losed reduced down to around 0.05, similiar to that of the orginal file"
   ]
  },
  {
   "cell_type": "markdown",
   "metadata": {},
   "source": [
    "### EPOCHS_PER_CLIENT = 10\n",
    "\n",
    "<img src=\"epochs=10.png\" style=\"width:400px;height:400px;\">"
   ]
  },
  {
   "cell_type": "markdown",
   "metadata": {},
   "source": [
    "### BATCH SIZE = 32\n",
    "\n",
    "We keep everything else the same and then change the batch size to 32 and see the output\n",
    "\n",
    "<img src=\"batch=32.png\" style=\"width:400px;height:400px;\">\n",
    "\n",
    "Now the accuracy has come down to 0.04"
   ]
  },
  {
   "cell_type": "markdown",
   "metadata": {},
   "source": [
    "### BATCH SIZE = 64\n",
    "\n",
    "<img src=\"epoch_per_client=6.png\" style=\"width:400px;height:400px;\">\n"
   ]
  },
  {
   "cell_type": "markdown",
   "metadata": {},
   "source": [
    "### NO OF CLIENT=5\n",
    "\n",
    "<img src=\"client=5.png\" style=\"width:400px;height:400px;\">\n",
    "\n",
    "Here the accuracy does not decrease that much compared to the 10. So we can infer that teh number of clients doesnt impact that much.\n",
    " "
   ]
  },
  {
   "cell_type": "markdown",
   "metadata": {},
   "source": [
    "### NO OF CLIENT = 10\n",
    "\n",
    "<img src=\"client_10.png\" style=\"width:400px;height:400px;\">\n",
    "\n",
    "Here again we see that the client doesnt impact the loss that much"
   ]
  },
  {
   "cell_type": "markdown",
   "metadata": {},
   "source": [
    "### LEARNING RATE = 0.01\n",
    "\n",
    "here we are trying a smaller learning rate than the orginal one\n",
    "\n",
    "\n",
    "<img src=\"learning_rate_1.png\" style=\"width:400px;height:400px;\">\n"
   ]
  },
  {
   "cell_type": "markdown",
   "metadata": {},
   "source": [
    "### LEARNING RATE = 0.1\n",
    "\n",
    "here we are trying a higher learning rate than the orginal\n",
    "\n",
    "<img src=\"learning_rate_2.png\" style=\"width:400px;height:400px;\">\n",
    "\n",
    "surprisingly we actually got a good output\n"
   ]
  },
  {
   "cell_type": "markdown",
   "metadata": {},
   "source": [
    "### LEARNING RATE = 1\n",
    "\n",
    "Now we will try with a very high learning rate to get the case of overfitting\n",
    "\n",
    "<img src=\"overfitting.png\" style=\"width:400px;height:400px;\">\n",
    "\n"
   ]
  },
  {
   "cell_type": "markdown",
   "metadata": {},
   "source": [
    "### LEARNING RATE = 0.0001\n",
    "\n",
    "now we try with very less learning rate to see how the output looks like\n",
    "\n",
    "<img src=\"learning_rate_3.png\" style=\"width:400px;height:400px;\">"
   ]
  }
 ],
 "metadata": {
  "kernelspec": {
   "display_name": "base",
   "language": "python",
   "name": "python3"
  },
  "language_info": {
   "name": "python",
   "version": "3.11.5"
  }
 },
 "nbformat": 4,
 "nbformat_minor": 2
}
